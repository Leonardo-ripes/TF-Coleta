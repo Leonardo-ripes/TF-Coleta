{
 "cells": [
  {
   "cell_type": "code",
   "execution_count": 1,
   "id": "0cf20346",
   "metadata": {},
   "outputs": [],
   "source": [
    "# importando bibliotecas\n",
    "import pandas as pd\n",
    "import numpy as np"
   ]
  },
  {
   "cell_type": "code",
   "execution_count": 2,
   "id": "754a0da6",
   "metadata": {},
   "outputs": [],
   "source": [
    "#Conversão dos csvs em dataframes\n",
    "df_2019 = pd.read_csv('../Dados/sim_data_cleaned_2019.csv')\n",
    "df_2020 = pd.read_csv('../Dados/sim_data_cleaned_2020.csv')\n",
    "df_2021 = pd.read_csv('../Dados/sim_data_cleaned_2021.csv')"
   ]
  },
  {
   "cell_type": "code",
   "execution_count": 3,
   "metadata": {},
   "outputs": [],
   "source": [
    "df_2019['ANO'] = '2019'\n",
    "df_2020['ANO'] = '2020'\n",
    "df_2021['ANO'] = '2021'"
   ]
  },
  {
   "cell_type": "code",
   "execution_count": 4,
   "metadata": {},
   "outputs": [],
   "source": [
    "df_2019.rename(columns={'Unnamed: 0': 'Id_Pessoa'}, inplace=True)\n",
    "df_2020.rename(columns={'Unnamed: 0': 'Id_Pessoa'}, inplace=True)\n",
    "df_2021.rename(columns={'Unnamed: 0': 'Id_Pessoa'}, inplace=True)"
   ]
  },
  {
   "cell_type": "code",
   "execution_count": 5,
   "metadata": {},
   "outputs": [
    {
     "name": "stdout",
     "output_type": "stream",
     "text": [
      "<class 'pandas.core.frame.DataFrame'>\n",
      "RangeIndex: 40564 entries, 0 to 40563\n",
      "Data columns (total 9 columns):\n",
      " #   Column      Non-Null Count  Dtype  \n",
      "---  ------      --------------  -----  \n",
      " 0   Id_Pessoa   40564 non-null  int64  \n",
      " 1   RACACOR     40564 non-null  object \n",
      " 2   SEXO        40564 non-null  int64  \n",
      " 3   DTOBITO     40564 non-null  object \n",
      " 4   DTNASC      40564 non-null  object \n",
      " 5   UF          40564 non-null  object \n",
      " 6   IDADE_ANOS  40564 non-null  float64\n",
      " 7   CIRCOBITO   40564 non-null  int64  \n",
      " 8   ANO         40564 non-null  object \n",
      "dtypes: float64(1), int64(3), object(5)\n",
      "memory usage: 2.8+ MB\n"
     ]
    }
   ],
   "source": [
    "# Concatenação dos 3 dataframes em um unico df\n",
    "df_merge = pd.concat([df_2019,df_2020,df_2021],ignore_index=True)\n",
    "df_merge.info()"
   ]
  },
  {
   "cell_type": "code",
   "execution_count": 6,
   "metadata": {},
   "outputs": [
    {
     "data": {
      "text/plain": [
       "RACACOR\n",
       "Branca      19541\n",
       "Parda       17902\n",
       "Preta        2163\n",
       "              500\n",
       "Indígena      343\n",
       "Amarela       115\n",
       "Name: count, dtype: int64"
      ]
     },
     "execution_count": 6,
     "metadata": {},
     "output_type": "execute_result"
    }
   ],
   "source": [
    "# Realizando o tratamento de valores numéricos em suas respectivas categorias\n",
    "\n",
    "mapeamento = {'1':'Branca', '2':'Preta', '3':'Amarela','4':'Parda','5':'Indígena'}\n",
    "df_merge['RACACOR'] = df_merge['RACACOR'].replace(mapeamento)\n",
    "\n",
    "#Verificando o resultado\n",
    "df_merge['RACACOR'].value_counts()"
   ]
  },
  {
   "cell_type": "code",
   "execution_count": 7,
   "metadata": {},
   "outputs": [
    {
     "data": {
      "text/plain": [
       "SEXO\n",
       "Masculino           31730\n",
       "Feminino             8833\n",
       "Não identificado        1\n",
       "Name: count, dtype: int64"
      ]
     },
     "execution_count": 7,
     "metadata": {},
     "output_type": "execute_result"
    }
   ],
   "source": [
    "# Realizando o tratamento de valores numéricos em suas respectivas categorias\n",
    "\n",
    "mapeamento = {1:'Masculino', 2:'Feminino',0:'Não identificado'}\n",
    "df_merge['SEXO'] = df_merge['SEXO'].replace(mapeamento)  \n",
    "\n",
    "df_merge['CIRCOBITO'] = df_merge['CIRCOBITO'].replace({2:'Suicidio'}) \n",
    "\n",
    "\n",
    "\n",
    "#Verificando o resultado\n",
    "df_merge['SEXO'].value_counts()"
   ]
  },
  {
   "cell_type": "code",
   "execution_count": 8,
   "metadata": {},
   "outputs": [
    {
     "data": {
      "text/plain": [
       "RACACOR\n",
       "Branca      19541\n",
       "Parda       17902\n",
       "Preta        2163\n",
       "Indígena      343\n",
       "Amarela       115\n",
       "Name: count, dtype: int64"
      ]
     },
     "execution_count": 8,
     "metadata": {},
     "output_type": "execute_result"
    }
   ],
   "source": [
    "#Obtendo casos onde o campo RACACOR tem uma string em branco\n",
    "df_not_equal = df_merge[df_merge['RACACOR'] != 'Branca']\n",
    "df_not_equal = df_not_equal[df_not_equal['RACACOR'] != 'Parda']\n",
    "df_not_equal = df_not_equal[df_not_equal['RACACOR'] != 'Preta']\n",
    "df_not_equal = df_not_equal[df_not_equal['RACACOR'] != 'Indígena']\n",
    "df_not_equal = df_not_equal[df_not_equal['RACACOR'] != 'Amarela']\n",
    "\n",
    "#Obtendo os índices onde temos onde RACACOR tem uma string em branco\n",
    "indices_a_excluir = df_not_equal.index.to_list()\n",
    "\n",
    "#Excluindo esses valores em branco a partir de seus indices\n",
    "df_merge.drop(indices_a_excluir, inplace=True)\n",
    "df_merge['RACACOR'].value_counts()"
   ]
  },
  {
   "cell_type": "code",
   "execution_count": 9,
   "metadata": {},
   "outputs": [
    {
     "data": {
      "text/html": [
       "<div>\n",
       "<style scoped>\n",
       "    .dataframe tbody tr th:only-of-type {\n",
       "        vertical-align: middle;\n",
       "    }\n",
       "\n",
       "    .dataframe tbody tr th {\n",
       "        vertical-align: top;\n",
       "    }\n",
       "\n",
       "    .dataframe thead th {\n",
       "        text-align: right;\n",
       "    }\n",
       "</style>\n",
       "<table border=\"1\" class=\"dataframe\">\n",
       "  <thead>\n",
       "    <tr style=\"text-align: right;\">\n",
       "      <th></th>\n",
       "      <th>Id_Pessoa</th>\n",
       "      <th>RACACOR</th>\n",
       "      <th>SEXO</th>\n",
       "      <th>DTOBITO</th>\n",
       "      <th>DTNASC</th>\n",
       "      <th>UF</th>\n",
       "      <th>IDADE_ANOS</th>\n",
       "      <th>CIRCOBITO</th>\n",
       "      <th>ANO</th>\n",
       "    </tr>\n",
       "  </thead>\n",
       "  <tbody>\n",
       "    <tr>\n",
       "      <th>0</th>\n",
       "      <td>0</td>\n",
       "      <td>Parda</td>\n",
       "      <td>Masculino</td>\n",
       "      <td>2019-01-01</td>\n",
       "      <td>1990-02-01</td>\n",
       "      <td>AC</td>\n",
       "      <td>29.0</td>\n",
       "      <td>Suicidio</td>\n",
       "      <td>2019</td>\n",
       "    </tr>\n",
       "    <tr>\n",
       "      <th>1</th>\n",
       "      <td>1</td>\n",
       "      <td>Parda</td>\n",
       "      <td>Masculino</td>\n",
       "      <td>2019-06-30</td>\n",
       "      <td>1987-08-05</td>\n",
       "      <td>AC</td>\n",
       "      <td>32.0</td>\n",
       "      <td>Suicidio</td>\n",
       "      <td>2019</td>\n",
       "    </tr>\n",
       "    <tr>\n",
       "      <th>2</th>\n",
       "      <td>2</td>\n",
       "      <td>Parda</td>\n",
       "      <td>Masculino</td>\n",
       "      <td>2019-07-04</td>\n",
       "      <td>1986-02-24</td>\n",
       "      <td>AC</td>\n",
       "      <td>33.0</td>\n",
       "      <td>Suicidio</td>\n",
       "      <td>2019</td>\n",
       "    </tr>\n",
       "    <tr>\n",
       "      <th>3</th>\n",
       "      <td>3</td>\n",
       "      <td>Branca</td>\n",
       "      <td>Masculino</td>\n",
       "      <td>2019-01-20</td>\n",
       "      <td>1973-05-19</td>\n",
       "      <td>AC</td>\n",
       "      <td>46.0</td>\n",
       "      <td>Suicidio</td>\n",
       "      <td>2019</td>\n",
       "    </tr>\n",
       "    <tr>\n",
       "      <th>4</th>\n",
       "      <td>4</td>\n",
       "      <td>Parda</td>\n",
       "      <td>Masculino</td>\n",
       "      <td>2019-01-21</td>\n",
       "      <td>1964-07-01</td>\n",
       "      <td>AC</td>\n",
       "      <td>55.0</td>\n",
       "      <td>Suicidio</td>\n",
       "      <td>2019</td>\n",
       "    </tr>\n",
       "    <tr>\n",
       "      <th>...</th>\n",
       "      <td>...</td>\n",
       "      <td>...</td>\n",
       "      <td>...</td>\n",
       "      <td>...</td>\n",
       "      <td>...</td>\n",
       "      <td>...</td>\n",
       "      <td>...</td>\n",
       "      <td>...</td>\n",
       "      <td>...</td>\n",
       "    </tr>\n",
       "    <tr>\n",
       "      <th>40559</th>\n",
       "      <td>14686</td>\n",
       "      <td>Parda</td>\n",
       "      <td>Masculino</td>\n",
       "      <td>2021-12-08</td>\n",
       "      <td>1987-08-26</td>\n",
       "      <td>TO</td>\n",
       "      <td>34.0</td>\n",
       "      <td>Suicidio</td>\n",
       "      <td>2021</td>\n",
       "    </tr>\n",
       "    <tr>\n",
       "      <th>40560</th>\n",
       "      <td>14687</td>\n",
       "      <td>Parda</td>\n",
       "      <td>Masculino</td>\n",
       "      <td>2021-11-27</td>\n",
       "      <td>1955-01-18</td>\n",
       "      <td>TO</td>\n",
       "      <td>66.0</td>\n",
       "      <td>Suicidio</td>\n",
       "      <td>2021</td>\n",
       "    </tr>\n",
       "    <tr>\n",
       "      <th>40561</th>\n",
       "      <td>14688</td>\n",
       "      <td>Parda</td>\n",
       "      <td>Masculino</td>\n",
       "      <td>2021-11-14</td>\n",
       "      <td>1990-01-10</td>\n",
       "      <td>TO</td>\n",
       "      <td>31.0</td>\n",
       "      <td>Suicidio</td>\n",
       "      <td>2021</td>\n",
       "    </tr>\n",
       "    <tr>\n",
       "      <th>40562</th>\n",
       "      <td>14689</td>\n",
       "      <td>Parda</td>\n",
       "      <td>Masculino</td>\n",
       "      <td>2021-11-14</td>\n",
       "      <td>1977-04-19</td>\n",
       "      <td>TO</td>\n",
       "      <td>44.0</td>\n",
       "      <td>Suicidio</td>\n",
       "      <td>2021</td>\n",
       "    </tr>\n",
       "    <tr>\n",
       "      <th>40563</th>\n",
       "      <td>14690</td>\n",
       "      <td>Branca</td>\n",
       "      <td>Masculino</td>\n",
       "      <td>2021-07-17</td>\n",
       "      <td>1985-09-07</td>\n",
       "      <td>TO</td>\n",
       "      <td>36.0</td>\n",
       "      <td>Suicidio</td>\n",
       "      <td>2021</td>\n",
       "    </tr>\n",
       "  </tbody>\n",
       "</table>\n",
       "<p>40064 rows × 9 columns</p>\n",
       "</div>"
      ],
      "text/plain": [
       "       Id_Pessoa RACACOR       SEXO     DTOBITO      DTNASC  UF  IDADE_ANOS  \\\n",
       "0              0   Parda  Masculino  2019-01-01  1990-02-01  AC        29.0   \n",
       "1              1   Parda  Masculino  2019-06-30  1987-08-05  AC        32.0   \n",
       "2              2   Parda  Masculino  2019-07-04  1986-02-24  AC        33.0   \n",
       "3              3  Branca  Masculino  2019-01-20  1973-05-19  AC        46.0   \n",
       "4              4   Parda  Masculino  2019-01-21  1964-07-01  AC        55.0   \n",
       "...          ...     ...        ...         ...         ...  ..         ...   \n",
       "40559      14686   Parda  Masculino  2021-12-08  1987-08-26  TO        34.0   \n",
       "40560      14687   Parda  Masculino  2021-11-27  1955-01-18  TO        66.0   \n",
       "40561      14688   Parda  Masculino  2021-11-14  1990-01-10  TO        31.0   \n",
       "40562      14689   Parda  Masculino  2021-11-14  1977-04-19  TO        44.0   \n",
       "40563      14690  Branca  Masculino  2021-07-17  1985-09-07  TO        36.0   \n",
       "\n",
       "      CIRCOBITO   ANO  \n",
       "0      Suicidio  2019  \n",
       "1      Suicidio  2019  \n",
       "2      Suicidio  2019  \n",
       "3      Suicidio  2019  \n",
       "4      Suicidio  2019  \n",
       "...         ...   ...  \n",
       "40559  Suicidio  2021  \n",
       "40560  Suicidio  2021  \n",
       "40561  Suicidio  2021  \n",
       "40562  Suicidio  2021  \n",
       "40563  Suicidio  2021  \n",
       "\n",
       "[40064 rows x 9 columns]"
      ]
     },
     "execution_count": 9,
     "metadata": {},
     "output_type": "execute_result"
    }
   ],
   "source": [
    "df_merge"
   ]
  },
  {
   "cell_type": "code",
   "execution_count": null,
   "metadata": {},
   "outputs": [],
   "source": []
  }
 ],
 "metadata": {
  "kernelspec": {
   "display_name": "Python 3 (ipykernel)",
   "language": "python",
   "name": "python3"
  },
  "language_info": {
   "codemirror_mode": {
    "name": "ipython",
    "version": 3
   },
   "file_extension": ".py",
   "mimetype": "text/x-python",
   "name": "python",
   "nbconvert_exporter": "python",
   "pygments_lexer": "ipython3",
   "version": "3.10.12"
  }
 },
 "nbformat": 4,
 "nbformat_minor": 5
}
