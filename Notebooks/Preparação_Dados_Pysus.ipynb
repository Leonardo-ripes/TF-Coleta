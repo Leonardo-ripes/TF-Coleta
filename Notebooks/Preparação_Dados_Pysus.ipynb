{
 "cells": [
  {
   "cell_type": "code",
   "execution_count": 1,
   "id": "0cf20346",
   "metadata": {},
   "outputs": [],
   "source": [
    "# importando bibliotecas\n",
    "import pandas as pd\n",
    "import numpy as np"
   ]
  },
  {
   "cell_type": "code",
   "execution_count": 2,
   "id": "754a0da6",
   "metadata": {},
   "outputs": [],
   "source": [
    "df_2019 = pd.read_csv('sim_data_cleaned_2019.csv')\n",
    "df_2020 = pd.read_csv('sim_data_cleaned_2020.csv')\n",
    "df_2021 = pd.read_csv('sim_data_cleaned_2021.csv')"
   ]
  },
  {
   "cell_type": "code",
   "execution_count": 3,
   "metadata": {},
   "outputs": [
    {
     "name": "stdout",
     "output_type": "stream",
     "text": [
      "<class 'pandas.core.frame.DataFrame'>\n",
      "RangeIndex: 40564 entries, 0 to 40563\n",
      "Data columns (total 8 columns):\n",
      " #   Column      Non-Null Count  Dtype  \n",
      "---  ------      --------------  -----  \n",
      " 0   Unnamed: 0  40564 non-null  int64  \n",
      " 1   RACACOR     40564 non-null  object \n",
      " 2   SEXO        40564 non-null  int64  \n",
      " 3   DTOBITO     40564 non-null  object \n",
      " 4   DTNASC      40564 non-null  object \n",
      " 5   UF          40564 non-null  object \n",
      " 6   IDADE_ANOS  40564 non-null  float64\n",
      " 7   CIRCOBITO   40564 non-null  int64  \n",
      "dtypes: float64(1), int64(3), object(4)\n",
      "memory usage: 2.5+ MB\n"
     ]
    }
   ],
   "source": [
    "# Concatenação dos 3 dataframes em um unico df\n",
    "df_merge = pd.concat([df_2019,df_2020,df_2021],ignore_index=True)\n",
    "df_merge.info()"
   ]
  },
  {
   "cell_type": "code",
   "execution_count": 4,
   "metadata": {},
   "outputs": [
    {
     "data": {
      "text/plain": [
       "RACACOR\n",
       "Branca      19541\n",
       "Parda       17902\n",
       "Preta        2163\n",
       "              500\n",
       "Indígena      343\n",
       "Amarela       115\n",
       "Name: count, dtype: int64"
      ]
     },
     "execution_count": 4,
     "metadata": {},
     "output_type": "execute_result"
    }
   ],
   "source": [
    "# Realizando o tratamento de valores numéricos em suas respectivas categorias\n",
    "\n",
    "mapeamento = {'1':'Branca', '2':'Preta', '3':'Amarela','4':'Parda','5':'Indígena'}\n",
    "df_merge['RACACOR'] = df_merge['RACACOR'].replace(mapeamento)\n",
    "\n",
    "#Verificando o resultado\n",
    "df_merge['RACACOR'].value_counts()"
   ]
  },
  {
   "cell_type": "code",
   "execution_count": 5,
   "metadata": {},
   "outputs": [
    {
     "data": {
      "text/plain": [
       "SEXO\n",
       "Masculino           31730\n",
       "Feminino             8833\n",
       "Não identificado        1\n",
       "Name: count, dtype: int64"
      ]
     },
     "execution_count": 5,
     "metadata": {},
     "output_type": "execute_result"
    }
   ],
   "source": [
    "# Realizando o tratamento de valores numéricos em suas respectivas categorias\n",
    "\n",
    "mapeamento = {1:'Masculino', 2:'Feminino',0:'Não identificado'}\n",
    "df_merge['SEXO'] = df_merge['SEXO'].replace(mapeamento)  \n",
    "\n",
    "#Verificando o resultado\n",
    "df_merge['SEXO'].value_counts()"
   ]
  },
  {
   "cell_type": "code",
   "execution_count": 6,
   "metadata": {},
   "outputs": [
    {
     "data": {
      "text/plain": [
       "RACACOR\n",
       "Branca      19541\n",
       "Parda       17902\n",
       "Preta        2163\n",
       "Indígena      343\n",
       "Amarela       115\n",
       "Name: count, dtype: int64"
      ]
     },
     "execution_count": 6,
     "metadata": {},
     "output_type": "execute_result"
    }
   ],
   "source": [
    "#Obtendo casos onde o campo RACACOR tem uma string em branco\n",
    "df_not_equal = df_merge[df_merge['RACACOR'] != 'Branca']\n",
    "df_not_equal = df_not_equal[df_not_equal['RACACOR'] != 'Parda']\n",
    "df_not_equal = df_not_equal[df_not_equal['RACACOR'] != 'Preta']\n",
    "df_not_equal = df_not_equal[df_not_equal['RACACOR'] != 'Indígena']\n",
    "df_not_equal = df_not_equal[df_not_equal['RACACOR'] != 'Amarela']\n",
    "\n",
    "#Obtendo os índices onde temos onde RACACOR tem uma string em branco\n",
    "indices_a_excluir = df_not_equal.index.to_list()\n",
    "\n",
    "#Excluindo esses valores em branco a partir de seus indices\n",
    "df_merge.drop(indices_a_excluir, inplace=True)\n",
    "df_merge['RACACOR'].value_counts()"
   ]
  }
 ],
 "metadata": {
  "kernelspec": {
   "display_name": "Python 3 (ipykernel)",
   "language": "python",
   "name": "python3"
  },
  "language_info": {
   "codemirror_mode": {
    "name": "ipython",
    "version": 3
   },
   "file_extension": ".py",
   "mimetype": "text/x-python",
   "name": "python",
   "nbconvert_exporter": "python",
   "pygments_lexer": "ipython3",
   "version": "3.10.12"
  }
 },
 "nbformat": 4,
 "nbformat_minor": 5
}
