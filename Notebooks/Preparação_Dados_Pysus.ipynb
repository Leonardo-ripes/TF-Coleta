{
 "cells": [
  {
   "cell_type": "code",
   "execution_count": 3,
   "id": "0cf20346",
   "metadata": {},
   "outputs": [],
   "source": [
    "# importando bibliotecas\n",
    "import pandas as pd\n",
    "import numpy as np"
   ]
  },
  {
   "cell_type": "code",
   "execution_count": 5,
   "id": "754a0da6",
   "metadata": {},
   "outputs": [],
   "source": [
    "# Alocação dos csvs em Dataframes\n",
    "# df_2019 = pd.read_csv('./Dados/sim_data_cleaned_2019.csv')\n",
    "# df_2020 = pd.read_csv('./Dados/sim_data_cleaned_2020.csv')\n",
    "# df_2021 = pd.read_csv('./Dados/sim_data_cleaned_2021.csv')\n",
    "\n",
    "df_2019 = pd.read_csv('sim_data_cleaned_2019.csv')\n",
    "df_2020 = pd.read_csv('sim_data_cleaned_2020.csv')\n",
    "df_2021 = pd.read_csv('sim_data_cleaned_2021.csv')"
   ]
  },
  {
   "cell_type": "code",
   "execution_count": 6,
   "metadata": {},
   "outputs": [
    {
     "name": "stdout",
     "output_type": "stream",
     "text": [
      "<class 'pandas.core.frame.DataFrame'>\n",
      "RangeIndex: 40564 entries, 0 to 40563\n",
      "Data columns (total 8 columns):\n",
      " #   Column      Non-Null Count  Dtype  \n",
      "---  ------      --------------  -----  \n",
      " 0   Unnamed: 0  40564 non-null  int64  \n",
      " 1   RACACOR     40564 non-null  object \n",
      " 2   SEXO        40564 non-null  int64  \n",
      " 3   DTOBITO     40564 non-null  object \n",
      " 4   DTNASC      40564 non-null  object \n",
      " 5   UF          40564 non-null  object \n",
      " 6   IDADE_ANOS  40564 non-null  float64\n",
      " 7   CIRCOBITO   40564 non-null  int64  \n",
      "dtypes: float64(1), int64(3), object(4)\n",
      "memory usage: 2.5+ MB\n"
     ]
    }
   ],
   "source": [
    "# Merge dos 3 Dataframes em um só\n",
    "df_merge = pd.concat([df_2019,df_2020,df_2021],ignore_index=True)\n",
    "df_merge.info()"
   ]
  },
  {
   "cell_type": "code",
   "execution_count": 7,
   "metadata": {},
   "outputs": [
    {
     "data": {
      "text/plain": [
       "UF\n",
       "SP    6926\n",
       "MG    4857\n",
       "RS    4341\n",
       "PR    2823\n",
       "SC    2350\n",
       "RJ    2170\n",
       "BA    2136\n",
       "CE    1965\n",
       "GO    1765\n",
       "PE    1392\n",
       "PA    1076\n",
       "PI     991\n",
       "MA     927\n",
       "MS     795\n",
       "PB     739\n",
       "ES     704\n",
       "MT     695\n",
       "RN     650\n",
       "AM     606\n",
       "DF     579\n",
       "AL     431\n",
       "RO     413\n",
       "TO     400\n",
       "SE     366\n",
       "AC     203\n",
       "AP     153\n",
       "RR     111\n",
       "Name: count, dtype: int64"
      ]
     },
     "execution_count": 7,
     "metadata": {},
     "output_type": "execute_result"
    }
   ],
   "source": [
    "df_merge['UF'].value_counts()"
   ]
  }
 ],
 "metadata": {
  "kernelspec": {
   "display_name": "Python 3 (ipykernel)",
   "language": "python",
   "name": "python3"
  },
  "language_info": {
   "codemirror_mode": {
    "name": "ipython",
    "version": 3
   },
   "file_extension": ".py",
   "mimetype": "text/x-python",
   "name": "python",
   "nbconvert_exporter": "python",
   "pygments_lexer": "ipython3",
   "version": "3.10.12"
  }
 },
 "nbformat": 4,
 "nbformat_minor": 5
}
